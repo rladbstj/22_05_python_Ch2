{
  "nbformat": 4,
  "nbformat_minor": 0,
  "metadata": {
    "colab": {
      "provenance": [],
      "authorship_tag": "ABX9TyN4kAtvCjLjveoakdRz2w1U",
      "include_colab_link": true
    },
    "kernelspec": {
      "name": "python3",
      "display_name": "Python 3"
    },
    "language_info": {
      "name": "python"
    }
  },
  "cells": [
    {
      "cell_type": "markdown",
      "metadata": {
        "id": "view-in-github",
        "colab_type": "text"
      },
      "source": [
        "<a href=\"https://colab.research.google.com/github/rladbstj/22_05_python_Ch2/blob/main/chaper2_exe.ipynb\" target=\"_parent\"><img src=\"https://colab.research.google.com/assets/colab-badge.svg\" alt=\"Open In Colab\"/></a>"
      ]
    },
    {
      "cell_type": "markdown",
      "source": [
        "1.사용자한테 이름과 나이를 입력하게 한다. 사용자가 100이 되는 연도를 화면에 출력하는 프로그램을 작성하라."
      ],
      "metadata": {
        "id": "2MOS0r58PjnP"
      }
    },
    {
      "cell_type": "code",
      "execution_count": 1,
      "metadata": {
        "colab": {
          "base_uri": "https://localhost:8080/"
        },
        "id": "5xVHsJSWN5UG",
        "outputId": "d702b9ec-de61-4f8d-e848-f1efa7a45cae"
      },
      "outputs": [
        {
          "output_type": "stream",
          "name": "stdout",
          "text": [
            "이름을 입력하시오:김윤서\n",
            "나이를 입력하시오:20\n",
            "김윤서씨는2102년에 100살입니다.\n"
          ]
        }
      ],
      "source": [
        "name = input(\"이름을 입력하시오:\")     # 변수 name에 input함수를 사용하여 사용자에\n",
        "age = int(input(\"나이를 입력하시오:\")) # 변수 age에 int(정수형선언)함수로 사용자\n",
        "year = 2022 - age + 100                # 변수 year에 현재 연도 - 변수(age)+100\n",
        "print(name + \"씨는\" + str(year) + \"년에 100살입니다.\")"
      ]
    },
    {
      "cell_type": "code",
      "source": [
        "n1= int(input(\"첫번째 숫자를 입력하세요:\"))\n",
        "n2= int(input(\"두번째 숫자를 입력하세요:\"))\n",
        "n3= int(input(\"세번째 숫자를 입력하세요:\"))\n",
        "average = (n1+n2+n3)/3\n",
        "print(n1+n2+n3, \"의 평균은\", average, \"입니다\")\n",
        "sum= n1+n2+n3\n",
        "print(n1,n2,n3,\n",
        "      \"합은\", sum, \"이고\",\"의 평균은\", average, \"입니다\")"
      ],
      "metadata": {
        "colab": {
          "base_uri": "https://localhost:8080/"
        },
        "id": "aLY0hgZBTaLY",
        "outputId": "4b18f28f-e094-4b46-98b4-0d80b5e9d8be"
      },
      "execution_count": 11,
      "outputs": [
        {
          "output_type": "stream",
          "name": "stdout",
          "text": [
            "첫번째 숫자를 입력하세요:10\n",
            "두번째 숫자를 입력하세요:20\n",
            "세번째 숫자를 입력하세요:30\n",
            "60 의 평균은 20.0 입니다\n",
            "10 20 30 합은 60 이고 의 평균은 20.0 입니다\n"
          ]
        }
      ]
    },
    {
      "cell_type": "code",
      "source": [
        "radius = int(input(\"반지름을 입력하시오.:\"))\n",
        "area = 3.141592 * radius * radius\n",
        "print(\"반지름이\", radius, \"인 원의 넓이는 =\", area, \"입니다\" )"
      ],
      "metadata": {
        "colab": {
          "base_uri": "https://localhost:8080/"
        },
        "id": "R8R3QEl5WCbU",
        "outputId": "a7ef1b3e-d292-44e9-e717-18ead56c0709"
      },
      "execution_count": 9,
      "outputs": [
        {
          "output_type": "stream",
          "name": "stdout",
          "text": [
            "반지름을 입력하시오.:10\n",
            "반지름이 10 인 원의 넓이는 = 314.1592 입니다\n"
          ]
        }
      ]
    }
  ]
}